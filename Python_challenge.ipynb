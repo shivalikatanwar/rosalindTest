{
 "cells": [
  {
   "cell_type": "markdown",
   "metadata": {},
   "source": [
    "# Counting DNA Nucleotides"
   ]
  },
  {
   "cell_type": "code",
   "execution_count": 1,
   "metadata": {},
   "outputs": [],
   "source": [
    "def countBase(s):\n",
    "    ''' \n",
    "    Input-dna sequence\n",
    "    return count A, T, C ,G\n",
    "    '''\n",
    "    s = s.upper()\n",
    "    if len(s)>1000:\n",
    "        print('Length of s should be 1000 nt atmost')\n",
    "        return None\n",
    "    else:\n",
    "        my_dict={}\n",
    "        my_list=['A','C','G','T']\n",
    "        for i in my_list:\n",
    "            b=s.count(i)\n",
    "            my_dict[i]=b\n",
    "        return (my_dict)"
   ]
  },
  {
   "cell_type": "code",
   "execution_count": 2,
   "metadata": {},
   "outputs": [
    {
     "data": {
      "text/plain": [
       "{'A': 20, 'C': 12, 'G': 17, 'T': 21}"
      ]
     },
     "execution_count": 2,
     "metadata": {},
     "output_type": "execute_result"
    }
   ],
   "source": [
    "s='AGCTTTTCATTCTGACTGCAACGGGCAATATGTCTCTGTGTGGATTAAAAAAAGAGTGTCTGATAGCAGC'\n",
    "record = countBase(s)\n",
    "record"
   ]
  },
  {
   "cell_type": "markdown",
   "metadata": {},
   "source": [
    "# Transcribing DNA into RNA"
   ]
  },
  {
   "cell_type": "code",
   "execution_count": 3,
   "metadata": {},
   "outputs": [],
   "source": [
    "def dna2rna(t):\n",
    "    '''\n",
    "    Input-dna sequence\n",
    "    return rna (T replaced by U)\n",
    "    '''\n",
    "    t = t.upper()\n",
    "    if len(t)>1000:\n",
    "        print('Length of t should be 1000 nt atmost')\n",
    "        return None\n",
    "    else:\n",
    "        t=t.replace('T','U')\n",
    "        return t"
   ]
  },
  {
   "cell_type": "code",
   "execution_count": 4,
   "metadata": {},
   "outputs": [
    {
     "data": {
      "text/plain": [
       "'AGCUUUUCAUUCUGACUGCAACGGGCAAUAUGUCUCUGUGUGGAUUAAAAAAAGAGUGUCUGAUAGCAGC'"
      ]
     },
     "execution_count": 4,
     "metadata": {},
     "output_type": "execute_result"
    }
   ],
   "source": [
    "s='AGCTTTTCATTCTGACTGCAACGGGCAATATGTCTCTGTGTGGATTAAAAAAAGAGTGTCTGATAGCAGC'\n",
    "record=dna2rna(s)\n",
    "record"
   ]
  },
  {
   "cell_type": "markdown",
   "metadata": {},
   "source": [
    "# Complementing a Strand of DNA"
   ]
  },
  {
   "cell_type": "code",
   "execution_count": 5,
   "metadata": {},
   "outputs": [],
   "source": [
    "def reverse_complement(s):\n",
    "    '''\n",
    "    Input-sequence\n",
    "    return reverse complement'''\n",
    "    s = s.upper()\n",
    "    if len(s)>1000:\n",
    "        print('Length of s should be 1000 nt atmost')\n",
    "        return None\n",
    "    else:\n",
    "        my_dict={'A':'T','C':'G','G':'C','T':'A'}\n",
    "        record = \"\".join(my_dict[i] for i in s)\n",
    "        record_rev=record[::-1]\n",
    "        return record_rev"
   ]
  },
  {
   "cell_type": "code",
   "execution_count": 6,
   "metadata": {},
   "outputs": [
    {
     "data": {
      "text/plain": [
       "'GCTGCTATCAGACACTCTTTTTTTAATCCACACAGAGACATATTGCCCGTTGCAGTCAGAATGAAAAGCT'"
      ]
     },
     "execution_count": 6,
     "metadata": {},
     "output_type": "execute_result"
    }
   ],
   "source": [
    "s='AGCTTTTCATTCTGACTGCAACGGGCAATATGTCTCTGTGTGGATTAAAAAAAGAGTGTCTGATAGCAGC'\n",
    "record=reverse_complement(s)\n",
    "record"
   ]
  },
  {
   "cell_type": "markdown",
   "metadata": {},
   "source": [
    "# Class for nucleotide sequence"
   ]
  },
  {
   "cell_type": "code",
   "execution_count": 7,
   "metadata": {},
   "outputs": [],
   "source": [
    "class Sequence:\n",
    "    def __init__(self,s):\n",
    "        '''\n",
    "        Class needs a sequences as argument\n",
    "        '''\n",
    "        self.s=s.upper()\n",
    "        self.length=len(self.s)\n",
    "        \n",
    "    \n",
    "    def check_length(self):\n",
    "        '''\n",
    "        Checks the length of the input which \n",
    "        should be <=1000 nucleotides\n",
    "        '''\n",
    "        if self.length > 1000:\n",
    "            print('Length of s should be 1000 nt atmost')\n",
    "            return False\n",
    "        else:\n",
    "            return True\n",
    "    \n",
    "        \n",
    "    def countBase(self):\n",
    "        ''' \n",
    "        Input-dna sequence\n",
    "        return count A, T, C ,G\n",
    "        '''\n",
    "        if self.check_length() == True:\n",
    "            my_dict={}\n",
    "            my_list=['A','C','G','T']\n",
    "            for i in my_list:\n",
    "                b=self.s.count(i)\n",
    "                my_dict[i]=b\n",
    "            return (my_dict)\n",
    "        \n",
    "    def dna2rna(self):\n",
    "        '''\n",
    "        Input-dna sequence\n",
    "        return rna (T replaced by U)\n",
    "        '''\n",
    "        if self.check_length() == True:\n",
    "            t=self.s.replace('T','U')\n",
    "            return t\n",
    "    \n",
    "    def reverse_complement(self):\n",
    "        '''\n",
    "        Input-sequence\n",
    "        return reverse complement\n",
    "        '''\n",
    "        if self.check_length() == True:\n",
    "            my_dict={'A':'T','C':'G','G':'C','T':'A'}\n",
    "            record = \"\".join(my_dict[i] for i in self.s)\n",
    "            record_rev=record[::-1]\n",
    "            return record_rev"
   ]
  },
  {
   "cell_type": "code",
   "execution_count": 8,
   "metadata": {},
   "outputs": [
    {
     "name": "stdout",
     "output_type": "stream",
     "text": [
      "AGCTTTTCATTCTGACTGCAACGGGCAATATGTCTCTGTGTGGATTAAAAAAAGAGTGTCTGATAGCAGC\n",
      "70\n",
      "True\n",
      "{'A': 20, 'C': 12, 'G': 17, 'T': 21}\n",
      "AGCUUUUCAUUCUGACUGCAACGGGCAAUAUGUCUCUGUGUGGAUUAAAAAAAGAGUGUCUGAUAGCAGC\n",
      "GCTGCTATCAGACACTCTTTTTTTAATCCACACAGAGACATATTGCCCGTTGCAGTCAGAATGAAAAGCT\n"
     ]
    }
   ],
   "source": [
    "s='AGCTTTTCATTCTGACTGCAACGGGCAATATGTCTCTGTGTGGATTAAAAAAAGAGTGTCTGATAGCAGC'\n",
    "seq_test=Sequence(s)\n",
    "print(seq_test.s)\n",
    "print(seq_test.length)\n",
    "print(seq_test.check_length())\n",
    "print(seq_test.countBase())\n",
    "print(seq_test.dna2rna())\n",
    "print(seq_test.reverse_complement())"
   ]
  }
 ],
 "metadata": {
  "kernelspec": {
   "display_name": "Python 3",
   "language": "python",
   "name": "python3"
  },
  "language_info": {
   "codemirror_mode": {
    "name": "ipython",
    "version": 3
   },
   "file_extension": ".py",
   "mimetype": "text/x-python",
   "name": "python",
   "nbconvert_exporter": "python",
   "pygments_lexer": "ipython3",
   "version": "3.7.3"
  }
 },
 "nbformat": 4,
 "nbformat_minor": 4
}
