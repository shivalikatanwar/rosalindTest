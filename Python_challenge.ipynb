{
 "cells": [
  {
   "cell_type": "markdown",
   "metadata": {},
   "source": [
    "# Counting DNA Nucleotides"
   ]
  },
  {
   "cell_type": "code",
   "execution_count": 1,
   "metadata": {},
   "outputs": [],
   "source": [
    "def countBase(s):\n",
    "    ''' \n",
    "    Input-dna sequence\n",
    "    return count A, T, C ,G\n",
    "    '''\n",
    "    s = s.upper()\n",
    "    if len(s)>1000:\n",
    "        print('Length of s should be 1000 nt atmost')\n",
    "        return None\n",
    "    else:\n",
    "        my_dict={}\n",
    "        my_list=['A','C','G','T']\n",
    "        for i in my_list:\n",
    "            b=s.count(i)\n",
    "            my_dict[i]=b\n",
    "        return (my_dict)"
   ]
  },
  {
   "cell_type": "code",
   "execution_count": 2,
   "metadata": {},
   "outputs": [
    {
     "data": {
      "text/plain": [
       "{'A': 20, 'C': 12, 'G': 17, 'T': 21}"
      ]
     },
     "execution_count": 2,
     "metadata": {},
     "output_type": "execute_result"
    }
   ],
   "source": [
    "s='AGCTTTTCATTCTGACTGCAACGGGCAATATGTCTCTGTGTGGATTAAAAAAAGAGTGTCTGATAGCAGC'\n",
    "record = countBase(s)\n",
    "record"
   ]
  },
  {
   "cell_type": "markdown",
   "metadata": {},
   "source": [
    "# Transcribing DNA into RNA"
   ]
  },
  {
   "cell_type": "code",
   "execution_count": 3,
   "metadata": {},
   "outputs": [],
   "source": [
    "def dna2rna(t):\n",
    "    '''\n",
    "    Input-dna sequence\n",
    "    return rna (T replaced by U)\n",
    "    '''\n",
    "    t = t.upper()\n",
    "    if len(t)>1000:\n",
    "        print('Length of t should be 1000 nt atmost')\n",
    "        return None\n",
    "    else:\n",
    "        t=t.replace('T','U')\n",
    "        return t"
   ]
  },
  {
   "cell_type": "code",
   "execution_count": 4,
   "metadata": {},
   "outputs": [
    {
     "data": {
      "text/plain": [
       "'AGCUUUUCAUUCUGACUGCAACGGGCAAUAUGUCUCUGUGUGGAUUAAAAAAAGAGUGUCUGAUAGCAGC'"
      ]
     },
     "execution_count": 4,
     "metadata": {},
     "output_type": "execute_result"
    }
   ],
   "source": [
    "s='AGCTTTTCATTCTGACTGCAACGGGCAATATGTCTCTGTGTGGATTAAAAAAAGAGTGTCTGATAGCAGC'\n",
    "record=dna2rna(s)\n",
    "record"
   ]
  },
  {
   "cell_type": "markdown",
   "metadata": {},
   "source": [
    "# Complementing a Strand of DNA"
   ]
  },
  {
   "cell_type": "code",
   "execution_count": 5,
   "metadata": {},
   "outputs": [],
   "source": [
    "def reverse_complement(s):\n",
    "    '''\n",
    "    Input-sequence\n",
    "    return reverse complement'''\n",
    "    s = s.upper()\n",
    "    if len(s)>1000:\n",
    "        print('Length of s should be 1000 nt atmost')\n",
    "        return None\n",
    "    else:\n",
    "        my_dict={'A':'T','C':'G','G':'C','T':'A'}\n",
    "        record = \"\".join(my_dict[i] for i in s)\n",
    "        record_rev=record[::-1]\n",
    "        return record_rev"
   ]
  },
  {
   "cell_type": "code",
   "execution_count": 6,
   "metadata": {},
   "outputs": [
    {
     "data": {
      "text/plain": [
       "'GCTGCTATCAGACACTCTTTTTTTAATCCACACAGAGACATATTGCCCGTTGCAGTCAGAATGAAAAGCT'"
      ]
     },
     "execution_count": 6,
     "metadata": {},
     "output_type": "execute_result"
    }
   ],
   "source": [
    "s='AGCTTTTCATTCTGACTGCAACGGGCAATATGTCTCTGTGTGGATTAAAAAAAGAGTGTCTGATAGCAGC'\n",
    "record=reverse_complement(s)\n",
    "record"
   ]
  }
 ],
 "metadata": {
  "kernelspec": {
   "display_name": "Python 3",
   "language": "python",
   "name": "python3"
  },
  "language_info": {
   "codemirror_mode": {
    "name": "ipython",
    "version": 3
   },
   "file_extension": ".py",
   "mimetype": "text/x-python",
   "name": "python",
   "nbconvert_exporter": "python",
   "pygments_lexer": "ipython3",
   "version": "3.7.3"
  }
 },
 "nbformat": 4,
 "nbformat_minor": 4
}
